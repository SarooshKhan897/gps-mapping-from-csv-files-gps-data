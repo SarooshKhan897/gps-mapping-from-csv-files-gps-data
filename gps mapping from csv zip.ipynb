{
 "cells": [
  {
   "cell_type": "code",
   "execution_count": 34,
   "metadata": {},
   "outputs": [],
   "source": [
    "# Importing necessary libraries\n",
    "\n",
    "import zipfile\n",
    "import os\n",
    "import pandas as pd"
   ]
  },
  {
   "cell_type": "code",
   "execution_count": 35,
   "metadata": {},
   "outputs": [],
   "source": [
    "# Specify the path to your ZIP file\n",
    "zip_filepath = r'C:\\Users\\razzm\\Downloads\\data\\data\\passive_data_high_sampling\\lljhljce\\gps.zip'\n",
    "# Specify the directory where you want to extract the ZIP file\n",
    "extract_dir = '.\\gpps'"
   ]
  },
  {
   "cell_type": "code",
   "execution_count": 36,
   "metadata": {},
   "outputs": [],
   "source": [
    "# Step 1: Extracting the ZIP file\n",
    "with zipfile.ZipFile(zip_filepath, 'r') as zip_ref:\n",
    "    zip_ref.extractall(extract_dir)"
   ]
  },
  {
   "cell_type": "code",
   "execution_count": 4,
   "metadata": {},
   "outputs": [],
   "source": [
    "# Get the list of all files in directory tree at given path\n",
    "list_of_files = []\n",
    "for (dirpath, dirnames, filenames) in os.walk(extract_dir):\n",
    "    list_of_files += [os.path.join(dirpath, file) for file in filenames if file.endswith('.csv')]\n"
   ]
  },
  {
   "cell_type": "code",
   "execution_count": 37,
   "metadata": {},
   "outputs": [],
   "source": [
    "# Step 2: Reading each CSV and combining them\n",
    "list_of_dataframes = []\n",
    "\n",
    "for idx, file in enumerate(list_of_files):\n",
    "    # Reading CSV file\n",
    "    data = pd.read_csv(file)\n",
    "    # If it is not the first CSV, skip the header row (i.e., the first row)\n",
    "    if idx != 0:\n",
    "        data = data[1:]\n",
    "    # Adding the dataframe to the list\n",
    "    list_of_dataframes.append(data)"
   ]
  },
  {
   "cell_type": "code",
   "execution_count": 38,
   "metadata": {},
   "outputs": [],
   "source": [
    "# Concatenating all the dataframes in the list\n",
    "combined_data = pd.concat(list_of_dataframes)\n"
   ]
  },
  {
   "cell_type": "code",
   "execution_count": 39,
   "metadata": {},
   "outputs": [
    {
     "name": "stdout",
     "output_type": "stream",
     "text": [
      "         timestamp                 UTC time   latitude  longitude  altitude  \\\n",
      "0    1470178800129  2016-08-02T23:00:00.129  41.878308 -87.628020     319.0   \n",
      "1    1470178801099   2016-08-02T23:00:01.99  41.878309 -87.628020     319.0   \n",
      "2    1470178802096   2016-08-02T23:00:02.96  41.878309 -87.628020     319.0   \n",
      "3    1470178803025   2016-08-02T23:00:03.25  41.878309 -87.628020     319.0   \n",
      "4    1470178804078   2016-08-02T23:00:04.78  41.878309 -87.628020     319.0   \n",
      "..             ...                      ...        ...        ...       ...   \n",
      "174  1472111905951  2016-08-25T07:58:25.951  41.874913 -87.627550       0.0   \n",
      "175  1472111925980  2016-08-25T07:58:45.980  41.874895 -87.627554       0.0   \n",
      "176  1472111946062   2016-08-25T07:59:06.62  41.874910 -87.627552       0.0   \n",
      "177  1472111966195  2016-08-25T07:59:26.195  41.874871 -87.627563       0.0   \n",
      "178  1472111986295  2016-08-25T07:59:46.295  41.874896 -87.627549       0.0   \n",
      "\n",
      "     accuracy  \n",
      "0        22.0  \n",
      "1        22.0  \n",
      "2        22.0  \n",
      "3        21.0  \n",
      "4        20.0  \n",
      "..        ...  \n",
      "174      30.0  \n",
      "175      30.0  \n",
      "176      30.0  \n",
      "177      30.0  \n",
      "178      30.0  \n",
      "\n",
      "[514278 rows x 6 columns]\n"
     ]
    }
   ],
   "source": [
    "print (combined_data)"
   ]
  },
  {
   "cell_type": "code",
   "execution_count": 40,
   "metadata": {},
   "outputs": [],
   "source": [
    "# Specify the path where you want to save the combined CSV file\n",
    "save_filepath = zip_filepath.replace('gps.zip', 'combined_data.csv')\n"
   ]
  },
  {
   "cell_type": "code",
   "execution_count": 41,
   "metadata": {},
   "outputs": [],
   "source": [
    "# Step 3: Writing the combined data to a new CSV file\n",
    "combined_data.to_csv(save_filepath, index=False)"
   ]
  },
  {
   "cell_type": "code",
   "execution_count": 42,
   "metadata": {},
   "outputs": [],
   "source": [
    "# Import necessary libraries\n",
    "import folium\n"
   ]
  },
  {
   "cell_type": "code",
   "execution_count": 43,
   "metadata": {},
   "outputs": [],
   "source": [
    "# Provide the path to your CSV file\n",
    "data = pd.read_csv(r\"C:\\Users\\razzm\\Downloads\\gpps\\combined_data.csv\")\n"
   ]
  },
  {
   "cell_type": "code",
   "execution_count": 44,
   "metadata": {},
   "outputs": [],
   "source": [
    "# Let's assume your data has columns named 'latitude', 'longitude', and 'timestamp'\n",
    "# Make sure to replace these with the actual names in your CSV file\n",
    "\n",
    "# Initialize map at the first GPS coordinate location\n",
    "m = folium.Map(location=[data['latitude'][0], data['longitude'][0]], zoom_start=14)\n"
   ]
  },
  {
   "cell_type": "code",
   "execution_count": 45,
   "metadata": {},
   "outputs": [],
   "source": [
    "# Extract locations\n",
    "locations = data[['latitude', 'longitude']].values.tolist()"
   ]
  },
  {
   "cell_type": "code",
   "execution_count": 47,
   "metadata": {},
   "outputs": [],
   "source": [
    "from folium.plugins import HeatMap\n"
   ]
  },
  {
   "cell_type": "code",
   "execution_count": 48,
   "metadata": {},
   "outputs": [
    {
     "data": {
      "text/plain": [
       "<folium.plugins.heat_map.HeatMap at 0x1fc67ebf390>"
      ]
     },
     "execution_count": 48,
     "metadata": {},
     "output_type": "execute_result"
    }
   ],
   "source": [
    "# Add a HeatMap to the map\n",
    "HeatMap(locations).add_to(m)\n"
   ]
  },
  {
   "cell_type": "code",
   "execution_count": 50,
   "metadata": {},
   "outputs": [],
   "source": [
    "# Save the map to an HTML file\n",
    "m.save('output_map.html')"
   ]
  },
  {
   "cell_type": "code",
   "execution_count": 51,
   "metadata": {},
   "outputs": [],
   "source": [
    "from scipy.spatial import ConvexHull\n",
    "from geopy.distance import geodesic\n",
    "import numpy as np\n"
   ]
  },
  {
   "cell_type": "code",
   "execution_count": 52,
   "metadata": {},
   "outputs": [],
   "source": [
    "# Extract locations\n",
    "locations = data[['latitude', 'longitude']].values.tolist()"
   ]
  },
  {
   "cell_type": "code",
   "execution_count": 53,
   "metadata": {},
   "outputs": [],
   "source": [
    "# Compute the convex hull of the location data\n",
    "hull = ConvexHull(np.array(locations))\n"
   ]
  },
  {
   "cell_type": "code",
   "execution_count": 54,
   "metadata": {},
   "outputs": [],
   "source": [
    "# Extract the locations that form the vertices of the hull\n",
    "hull_points = [locations[i] for i in hull.vertices]\n"
   ]
  },
  {
   "cell_type": "code",
   "execution_count": 55,
   "metadata": {},
   "outputs": [],
   "source": [
    "# Compute the area of the convex hull\n",
    "# Note: this is a rough approximation, because it treats the earth as flat\n",
    "area = hull.volume"
   ]
  },
  {
   "cell_type": "code",
   "execution_count": 56,
   "metadata": {},
   "outputs": [
    {
     "name": "stdout",
     "output_type": "stream",
     "text": [
      "Approximate geographical spread: 0.0013432589276018657 square degrees\n"
     ]
    }
   ],
   "source": [
    "print(f\"Approximate geographical spread: {area} square degrees\")\n"
   ]
  },
  {
   "cell_type": "code",
   "execution_count": 57,
   "metadata": {},
   "outputs": [],
   "source": [
    "# Plot the hull points on the map\n",
    "for lat, lon in hull_points:\n",
    "    folium.Marker([lat, lon]).add_to(m)"
   ]
  },
  {
   "cell_type": "code",
   "execution_count": 58,
   "metadata": {},
   "outputs": [
    {
     "data": {
      "text/plain": [
       "<folium.vector_layers.Polygon at 0x1fc67ebd310>"
      ]
     },
     "execution_count": 58,
     "metadata": {},
     "output_type": "execute_result"
    }
   ],
   "source": [
    "# Connect the hull points to form a shape on the map\n",
    "folium.Polygon(hull_points, color=\"red\", fill=True, fill_color=\"red\", fill_opacity=0.2).add_to(m)\n"
   ]
  },
  {
   "cell_type": "code",
   "execution_count": 59,
   "metadata": {},
   "outputs": [],
   "source": [
    "# Save the map to an HTML file\n",
    "m.save('output_map.html')"
   ]
  }
 ],
 "metadata": {
  "kernelspec": {
   "display_name": "Python 3",
   "language": "python",
   "name": "python3"
  },
  "language_info": {
   "codemirror_mode": {
    "name": "ipython",
    "version": 3
   },
   "file_extension": ".py",
   "mimetype": "text/x-python",
   "name": "python",
   "nbconvert_exporter": "python",
   "pygments_lexer": "ipython3",
   "version": "3.11.3"
  },
  "orig_nbformat": 4
 },
 "nbformat": 4,
 "nbformat_minor": 2
}
