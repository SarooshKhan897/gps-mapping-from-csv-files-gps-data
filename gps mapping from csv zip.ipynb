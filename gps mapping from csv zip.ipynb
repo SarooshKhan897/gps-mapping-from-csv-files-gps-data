{
 "cells": [
  {
   "cell_type": "code",
   "execution_count": 1,
   "metadata": {},
   "outputs": [],
   "source": [
    "# Importing necessary libraries\n",
    "\n",
    "import zipfile\n",
    "import os\n",
    "import pandas as pd"
   ]
  },
  {
   "cell_type": "code",
   "execution_count": 18,
   "metadata": {},
   "outputs": [],
   "source": [
    "# Specify the path to your ZIP file\n",
    "zip_filepath = r'C:\\Users\\razzm\\Downloads\\gpps\\gps.zip'\n",
    "# Specify the directory where you want to extract the ZIP file\n",
    "extract_dir = '.\\gpps'"
   ]
  },
  {
   "cell_type": "code",
   "execution_count": 19,
   "metadata": {},
   "outputs": [],
   "source": [
    "# Step 1: Extracting the ZIP file\n",
    "with zipfile.ZipFile(zip_filepath, 'r') as zip_ref:\n",
    "    zip_ref.extractall(extract_dir)"
   ]
  },
  {
   "cell_type": "code",
   "execution_count": 20,
   "metadata": {},
   "outputs": [],
   "source": [
    "# Get the list of all files in directory tree at given path\n",
    "list_of_files = []\n",
    "for (dirpath, dirnames, filenames) in os.walk(extract_dir):\n",
    "    list_of_files += [os.path.join(dirpath, file) for file in filenames if file.endswith('.csv')]\n"
   ]
  },
  {
   "cell_type": "code",
   "execution_count": 21,
   "metadata": {},
   "outputs": [],
   "source": [
    "# Step 2: Reading each CSV and combining them\n",
    "list_of_dataframes = []\n",
    "\n",
    "for idx, file in enumerate(list_of_files):\n",
    "    # Reading CSV file\n",
    "    data = pd.read_csv(file)\n",
    "    # If it is not the first CSV, skip the header row (i.e., the first row)\n",
    "    if idx != 0:\n",
    "        data = data[1:]\n",
    "    # Adding the dataframe to the list\n",
    "    list_of_dataframes.append(data)"
   ]
  },
  {
   "cell_type": "code",
   "execution_count": 22,
   "metadata": {},
   "outputs": [],
   "source": [
    "# Concatenating all the dataframes in the list\n",
    "combined_data = pd.concat(list_of_dataframes)\n"
   ]
  },
  {
   "cell_type": "code",
   "execution_count": null,
   "metadata": {},
   "outputs": [],
   "source": [
    "print (combined_data)"
   ]
  },
  {
   "cell_type": "code",
   "execution_count": 29,
   "metadata": {},
   "outputs": [],
   "source": [
    "# Specify the path where you want to save the combined CSV file\n",
    "save_filepath = zip_filepath.replace('gps.zip', 'combined_data.csv')\n"
   ]
  },
  {
   "cell_type": "code",
   "execution_count": 30,
   "metadata": {},
   "outputs": [],
   "source": [
    "# Step 3: Writing the combined data to a new CSV file\n",
    "combined_data.to_csv(save_filepath, index=False)"
   ]
  },
  {
   "cell_type": "code",
   "execution_count": 32,
   "metadata": {},
   "outputs": [],
   "source": [
    "# Import necessary libraries\n",
    "import folium\n"
   ]
  },
  {
   "cell_type": "code",
   "execution_count": 33,
   "metadata": {},
   "outputs": [],
   "source": [
    "# Provide the path to your CSV file\n",
    "data = pd.read_csv(r\"C:\\Users\\razzm\\Downloads\\gpps\\combined_data.csv\")\n"
   ]
  },
  {
   "cell_type": "code",
   "execution_count": 34,
   "metadata": {},
   "outputs": [],
   "source": [
    "# Let's assume your data has columns named 'latitude', 'longitude', and 'timestamp'\n",
    "# Make sure to replace these with the actual names in your CSV file\n",
    "\n",
    "# Initialize map at the first GPS coordinate location\n",
    "m = folium.Map(location=[data['latitude'][0], data['longitude'][0]], zoom_start=14)\n"
   ]
  },
  {
   "cell_type": "code",
   "execution_count": 35,
   "metadata": {},
   "outputs": [],
   "source": [
    "# Extract locations\n",
    "locations = data[['latitude', 'longitude']].values.tolist()"
   ]
  },
  {
   "cell_type": "code",
   "execution_count": 36,
   "metadata": {},
   "outputs": [],
   "source": [
    "# Add markers to the map for each location\n",
    "for lat, lon, time in zip(data['latitude'], data['longitude'], data['timestamp']):\n",
    "    folium.Marker([lat, lon], popup=str(time)).add_to(m)"
   ]
  },
  {
   "cell_type": "code",
   "execution_count": 37,
   "metadata": {},
   "outputs": [
    {
     "data": {
      "text/plain": [
       "<folium.vector_layers.PolyLine at 0x24e16c6d510>"
      ]
     },
     "execution_count": 37,
     "metadata": {},
     "output_type": "execute_result"
    }
   ],
   "source": [
    "# Draw the journey on the map\n",
    "folium.PolyLine(locations, color=\"red\", weight=2.5, opacity=1).add_to(m)"
   ]
  },
  {
   "cell_type": "code",
   "execution_count": 38,
   "metadata": {},
   "outputs": [],
   "source": [
    "# Save the map to an HTML file\n",
    "m.save('output_map.html')"
   ]
  },
  {
   "cell_type": "code",
   "execution_count": 39,
   "metadata": {},
   "outputs": [],
   "source": [
    "import os"
   ]
  },
  {
   "cell_type": "code",
   "execution_count": 40,
   "metadata": {},
   "outputs": [
    {
     "name": "stdout",
     "output_type": "stream",
     "text": [
      "c:\\Users\\razzm\\AppData\\Local\\Programs\\Microsoft VS Code\n"
     ]
    }
   ],
   "source": [
    "print(os.getcwd())\n"
   ]
  }
 ],
 "metadata": {
  "kernelspec": {
   "display_name": "Python 3",
   "language": "python",
   "name": "python3"
  },
  "language_info": {
   "codemirror_mode": {
    "name": "ipython",
    "version": 3
   },
   "file_extension": ".py",
   "mimetype": "text/x-python",
   "name": "python",
   "nbconvert_exporter": "python",
   "pygments_lexer": "ipython3",
   "version": "3.11.3"
  },
  "orig_nbformat": 4
 },
 "nbformat": 4,
 "nbformat_minor": 2
}
